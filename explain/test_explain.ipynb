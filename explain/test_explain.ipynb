{
 "cells": [
  {
   "cell_type": "code",
   "execution_count": 6,
   "metadata": {},
   "outputs": [],
   "source": [
    "from InputXGrad import InputXGradient\n",
    "from gradcam import GradCAM\n",
    "import torch\n",
    "import torch.nn as nn\n",
    "import matplotlib.pyplot as plt\n",
    "torch.set_default_tensor_type(torch.DoubleTensor)\n"
   ]
  },
  {
   "cell_type": "code",
   "execution_count": 2,
   "metadata": {},
   "outputs": [],
   "source": [
    "x = torch.tensor([-1., 0., 1., 2., 3.], requires_grad=True)\n",
    "#x.register_hook(lambda grad: print(grad))\n",
    "z = torch.tensor([1., 2., 3., 4., 5.], requires_grad=True)\n",
    "relu = nn.ReLU()\n",
    "def func(x, z):\n",
    "    return relu(1-x) + z\n",
    "#x.requires_grad = True\n",
    "y = func(x, z)"
   ]
  },
  {
   "cell_type": "code",
   "execution_count": 2,
   "metadata": {},
   "outputs": [],
   "source": [
    "import numpy as np\n",
    "import sys\n",
    "sys.path.append('../')\n",
    "from GNN import GNN\n",
    "from featurization import MolTensorizer"
   ]
  },
  {
   "cell_type": "code",
   "execution_count": 7,
   "metadata": {},
   "outputs": [],
   "source": [
    "smiles = 'COCc1cccc(-c2ccc(S(=O)(=O)Nc3cc(N4C[C@H](C)N[C@H](C)C4)ccc3OC)cc2)c1'\n",
    "featurizer = MolTensorizer()\n",
    "mol = featurizer.tensorize(smiles)\n",
    "model = GNN(num_node_features=mol.x.shape[1],\n",
    "            num_edge_features=mol.edge_attr.shape[1],)"
   ]
  },
  {
   "cell_type": "code",
   "execution_count": 8,
   "metadata": {},
   "outputs": [
    {
     "name": "stdout",
     "output_type": "stream",
     "text": [
      "layer_evals (tensor([[0.5726, 0.0000, 0.9125,  ..., 0.0000, 0.0000, 1.3856],\n",
      "        [0.5488, 0.0304, 0.0000,  ..., 0.3589, 0.0000, 1.2171],\n",
      "        [0.5998, 0.0000, 0.3066,  ..., 0.0000, 0.2422, 1.4594],\n",
      "        ...,\n",
      "        [0.0000, 0.3468, 1.2298,  ..., 0.0000, 0.0000, 0.0000],\n",
      "        [0.0000, 0.3446, 0.1967,  ..., 0.0000, 0.0000, 0.0000],\n",
      "        [0.0000, 1.5107, 0.0000,  ..., 0.0000, 0.0000, 0.0000]],\n",
      "       grad_fn=<CatBackward0>),)\n",
      "layer_evals[0] torch.Size([35, 128])\n"
     ]
    },
    {
     "ename": "IndexError",
     "evalue": "tuple index out of range",
     "output_type": "error",
     "traceback": [
      "\u001b[0;31m---------------------------------------------------------------------------\u001b[0m",
      "\u001b[0;31mIndexError\u001b[0m                                Traceback (most recent call last)",
      "\u001b[1;32m/home/xuchen/ACs/explain/test_explain.ipynb Cell 5\u001b[0m line \u001b[0;36m2\n\u001b[1;32m      <a href='vscode-notebook-cell://ssh-remote%2Bpascal.emory.edu/home/xuchen/ACs/explain/test_explain.ipynb#X11sdnNjb2RlLXJlbW90ZQ%3D%3D?line=0'>1</a>\u001b[0m explain_method \u001b[39m=\u001b[39m GradCAM(model, model\u001b[39m.\u001b[39mconvs[\u001b[39m-\u001b[39m\u001b[39m1\u001b[39m])\n\u001b[0;32m----> <a href='vscode-notebook-cell://ssh-remote%2Bpascal.emory.edu/home/xuchen/ACs/explain/test_explain.ipynb#X11sdnNjb2RlLXJlbW90ZQ%3D%3D?line=1'>2</a>\u001b[0m att \u001b[39m=\u001b[39m explain_method\u001b[39m.\u001b[39;49mattribute((mol\u001b[39m.\u001b[39;49mx, mol\u001b[39m.\u001b[39;49medge_attr), additional_forward_args\u001b[39m=\u001b[39;49m(mol\u001b[39m.\u001b[39;49medge_index))\n",
      "File \u001b[0;32m~/ACs/explain/gradcam.py:62\u001b[0m, in \u001b[0;36mGradCAM.attribute\u001b[0;34m(self, inputs, target, additional_forward_args, attribute_to_layer_input, return_gradients)\u001b[0m\n\u001b[1;32m     60\u001b[0m \u001b[39mprint\u001b[39m(\u001b[39m\"\u001b[39m\u001b[39mlayer_evals\u001b[39m\u001b[39m\"\u001b[39m, layer_evals)\n\u001b[1;32m     61\u001b[0m \u001b[39mprint\u001b[39m(\u001b[39m\"\u001b[39m\u001b[39mlayer_evals[0]\u001b[39m\u001b[39m\"\u001b[39m, layer_evals[\u001b[39m0\u001b[39m]\u001b[39m.\u001b[39mshape)\n\u001b[0;32m---> 62\u001b[0m \u001b[39mprint\u001b[39m(\u001b[39m\"\u001b[39m\u001b[39mlayer_evals[1]\u001b[39m\u001b[39m\"\u001b[39m, layer_evals[\u001b[39m1\u001b[39;49m]\u001b[39m.\u001b[39mshape)\n\u001b[1;32m     63\u001b[0m \u001b[39mprint\u001b[39m(\u001b[39m\"\u001b[39m\u001b[39mlayer_gradients\u001b[39m\u001b[39m\"\u001b[39m, layer_gradients)\n\u001b[1;32m     64\u001b[0m \u001b[39mprint\u001b[39m(\u001b[39m\"\u001b[39m\u001b[39mlayer_gradients[0]\u001b[39m\u001b[39m\"\u001b[39m, layer_gradients[\u001b[39m0\u001b[39m]\u001b[39m.\u001b[39mshape)\n",
      "\u001b[0;31mIndexError\u001b[0m: tuple index out of range"
     ]
    }
   ],
   "source": [
    "explain_method = GradCAM(model, model.convs[-1])\n",
    "att = explain_method.attribute((mol.x, mol.edge_attr), additional_forward_args=(mol.edge_index))"
   ]
  },
  {
   "cell_type": "code",
   "execution_count": 63,
   "metadata": {},
   "outputs": [
    {
     "name": "stdout",
     "output_type": "stream",
     "text": [
      "tensor([-1., -1., -0., -0., -0.])\n"
     ]
    }
   ],
   "source": [
    "#y.sum().backward()\n",
    "optimizer.zero_grad()\n",
    "y.sum().backward()\n",
    "print(x.grad)\n"
   ]
  },
  {
   "cell_type": "code",
   "execution_count": 17,
   "metadata": {},
   "outputs": [],
   "source": [
    "explain_method = InputXGradient(func)\n",
    "att = explain_method.attribute((x, z))"
   ]
  },
  {
   "cell_type": "code",
   "execution_count": 2,
   "metadata": {},
   "outputs": [],
   "source": [
    "x = torch.tensor([1., 2., 3.], requires_grad=True).reshape(-1, 1)\n",
    "edge_attr = torch.tensor([1., 1., 2., 2., 3., 3.], requires_grad=True).reshape(-1, 1)\n",
    "edge_index = torch.tensor([[0, 1, 1, 2, 2, 0], [1, 0, 2, 1, 0, 2]], dtype=torch.long)\n",
    "def func(x, edge_attr, edge_index):\n",
    "    return torch.sum(x + scatter(edge_attr*x[edge_index[1]], edge_index[0])).reshape(-1, 1)\n",
    "def scatter(x, index, dim=0):\n",
    "    size = list(x.shape)\n",
    "    size[dim] = index.max().item() + 1\n",
    "    res = torch.zeros(size, dtype=x.dtype, device=x.device)\n",
    "    return res.scatter_add_(dim, index[:, None].expand_as(x), x)\n",
    "y = func(x, edge_attr, edge_index)"
   ]
  },
  {
   "cell_type": "code",
   "execution_count": 4,
   "metadata": {},
   "outputs": [],
   "source": [
    "explain_method = InputXGradient(func)\n",
    "att = explain_method.attribute((x, edge_attr), additional_forward_args=(edge_index,))"
   ]
  },
  {
   "cell_type": "code",
   "execution_count": 5,
   "metadata": {},
   "outputs": [
    {
     "data": {
      "text/plain": [
       "tensor([ 5.,  8., 18.], grad_fn=<MulBackward0>)"
      ]
     },
     "execution_count": 5,
     "metadata": {},
     "output_type": "execute_result"
    }
   ],
   "source": [
    "att"
   ]
  },
  {
   "cell_type": "code",
   "execution_count": 5,
   "metadata": {},
   "outputs": [
    {
     "data": {
      "text/plain": [
       "(tensor([ 5.,  8., 18.], grad_fn=<MulBackward0>),\n",
       " tensor([2., 1., 6., 4., 3., 9.], grad_fn=<MulBackward0>))"
      ]
     },
     "execution_count": 5,
     "metadata": {},
     "output_type": "execute_result"
    }
   ],
   "source": [
    "att"
   ]
  }
 ],
 "metadata": {
  "kernelspec": {
   "display_name": "gnn",
   "language": "python",
   "name": "python3"
  },
  "language_info": {
   "codemirror_mode": {
    "name": "ipython",
    "version": 3
   },
   "file_extension": ".py",
   "mimetype": "text/x-python",
   "name": "python",
   "nbconvert_exporter": "python",
   "pygments_lexer": "ipython3",
   "version": "3.10.10"
  }
 },
 "nbformat": 4,
 "nbformat_minor": 2
}
